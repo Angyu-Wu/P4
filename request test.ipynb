{
 "cells": [
  {
   "cell_type": "code",
   "execution_count": 1,
   "metadata": {},
   "outputs": [
    {
     "name": "stdout",
     "output_type": "stream",
     "text": [
      "{'Prediction': '41713.0', 'Result': 'vol_moving_avg is  12345 and adj_close_rolling_med 25 then result is 41713.0'}\n"
     ]
    }
   ],
   "source": [
    "import requests\n",
    "import numpy as np\n",
    "\n",
    "y_predict = requests.get('http://127.0.0.1:5000/predict?vol_moving_avg=12345&adj_close_rolling_med=25').json()\n",
    "\n",
    "# Make array from the list\n",
    "y_predict = np.array(y_predict)\n",
    "print(y_predict)"
   ]
  },
  {
   "cell_type": "code",
   "execution_count": 2,
   "metadata": {},
   "outputs": [
    {
     "name": "stdout",
     "output_type": "stream",
     "text": [
      "{'Prediction': '244030.0', 'Result': 'vol_moving_avg is  1230045 and adj_close_rolling_med 2500 then result is 244030.0'}\n"
     ]
    }
   ],
   "source": [
    "y_predict = requests.get('http://127.0.0.1:5000/predict?vol_moving_avg=1230045&adj_close_rolling_med=2500').json()\n",
    "\n",
    "# Make array from the list\n",
    "y_predict = np.array(y_predict)\n",
    "print(y_predict)"
   ]
  }
 ],
 "metadata": {
  "kernelspec": {
   "display_name": "Python 3",
   "language": "python",
   "name": "python3"
  },
  "language_info": {
   "codemirror_mode": {
    "name": "ipython",
    "version": 3
   },
   "file_extension": ".py",
   "mimetype": "text/x-python",
   "name": "python",
   "nbconvert_exporter": "python",
   "pygments_lexer": "ipython3",
   "version": "3.10.4"
  },
  "orig_nbformat": 4
 },
 "nbformat": 4,
 "nbformat_minor": 2
}
